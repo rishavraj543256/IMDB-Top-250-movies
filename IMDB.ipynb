{
 "cells": [
  {
   "cell_type": "code",
   "execution_count": 4,
   "id": "c493150a",
   "metadata": {},
   "outputs": [],
   "source": [
    "from bs4 import BeautifulSoup as soup\n",
    "import pandas as pd\n",
    "import numpy as np\n",
    "import requests\n",
    "import re"
   ]
  },
  {
   "cell_type": "code",
   "execution_count": 5,
   "id": "640c27cf",
   "metadata": {},
   "outputs": [],
   "source": [
    "url=\"https://www.imdb.com/search/title/?groups=top_250&sort=user_rating\"\n",
    "response=requests.get(url)"
   ]
  },
  {
   "cell_type": "code",
   "execution_count": 6,
   "id": "3a1d2f98",
   "metadata": {},
   "outputs": [],
   "source": [
    "data=soup(response.text,\"html.parser\")"
   ]
  },
  {
   "cell_type": "code",
   "execution_count": 7,
   "id": "6b8e8cc7",
   "metadata": {},
   "outputs": [],
   "source": [
    "container=data.findAll('div',{'class':'lister-item mode-advanced'})"
   ]
  },
  {
   "cell_type": "code",
   "execution_count": 12,
   "id": "442e549f",
   "metadata": {},
   "outputs": [
    {
     "name": "stderr",
     "output_type": "stream",
     "text": [
      "C:\\Users\\risha\\AppData\\Local\\Temp\\ipykernel_18424\\3919874629.py:32: FutureWarning: The frame.append method is deprecated and will be removed from pandas in a future version. Use pandas.concat instead.\n",
      "  final.append(df)\n"
     ]
    }
   ],
   "source": [
    "final=pd.DataFrame()\n",
    "for i in range(1,250,50):\n",
    "    url=\"https://www.imdb.com/search/title/?groups=top_250&sort=user_rating,desc&start={}&ref_=adv_nxt\".format(i)\n",
    "    response=requests.get(url)\n",
    "    data=soup(response.text,\"html.parser\")\n",
    "    container=data.findAll('div',{'class':'lister-item mode-advanced'})\n",
    "    movies=[]\n",
    "    year=[]\n",
    "    genre=[]\n",
    "    rating=[]\n",
    "    director=[]\n",
    "    cast=[]\n",
    "    votes=[]\n",
    "    for i in container:\n",
    "        tit=i.findAll('h3',{'class':'lister-item-header'})[0].find('a')\n",
    "        movies.append(tit.text)\n",
    "        y=i.findAll('h3',{'class':'lister-item-header'})[0].find('span',{'class':'lister-item-year text-muted unbold'})\n",
    "        year.append(y.text.replace('(','').replace(')',''))\n",
    "        gen=i.findAll('span',{'class':'genre'})[0]\n",
    "        genre.append(gen.text.strip())\n",
    "        rat=i.findAll(\"div\",{'class':'inline-block ratings-imdb-rating'})[0].text.strip()\n",
    "        rating.append(rat)\n",
    "        dir=i.findAll('p',{'class':''})[0]\n",
    "        director.append(dir.a.text)\n",
    "        star=i.findAll('p',{'class':''})[0].text.split('|')[1].split(':')[1]\n",
    "        cast.append(star)\n",
    "        vote=i.findAll('span',{'name':'nv'})[0].text\n",
    "        votes.append(vote)\n",
    "    new_list = [item.replace('\\r', '').replace('\\n', '') for item in cast]\n",
    "    dict={\"Movies Name\":movies,'Year':year,'Genre':genre,'Rating':rating,'Director':director,'Cast':new_list,'Vote':votes}\n",
    "    df=pd.DataFrame(dict)\n",
    "    final.append(df)"
   ]
  },
  {
   "cell_type": "code",
   "execution_count": 13,
   "id": "6bf33d20",
   "metadata": {},
   "outputs": [
    {
     "data": {
      "text/html": [
       "<div>\n",
       "<style scoped>\n",
       "    .dataframe tbody tr th:only-of-type {\n",
       "        vertical-align: middle;\n",
       "    }\n",
       "\n",
       "    .dataframe tbody tr th {\n",
       "        vertical-align: top;\n",
       "    }\n",
       "\n",
       "    .dataframe thead th {\n",
       "        text-align: right;\n",
       "    }\n",
       "</style>\n",
       "<table border=\"1\" class=\"dataframe\">\n",
       "  <thead>\n",
       "    <tr style=\"text-align: right;\">\n",
       "      <th></th>\n",
       "    </tr>\n",
       "  </thead>\n",
       "  <tbody>\n",
       "  </tbody>\n",
       "</table>\n",
       "</div>"
      ],
      "text/plain": [
       "Empty DataFrame\n",
       "Columns: []\n",
       "Index: []"
      ]
     },
     "execution_count": 13,
     "metadata": {},
     "output_type": "execute_result"
    }
   ],
   "source": [
    "final"
   ]
  },
  {
   "cell_type": "code",
   "execution_count": null,
   "id": "519cea44",
   "metadata": {},
   "outputs": [],
   "source": []
  }
 ],
 "metadata": {
  "kernelspec": {
   "display_name": "Python 3 (ipykernel)",
   "language": "python",
   "name": "python3"
  },
  "language_info": {
   "codemirror_mode": {
    "name": "ipython",
    "version": 3
   },
   "file_extension": ".py",
   "mimetype": "text/x-python",
   "name": "python",
   "nbconvert_exporter": "python",
   "pygments_lexer": "ipython3",
   "version": "3.10.0"
  }
 },
 "nbformat": 4,
 "nbformat_minor": 5
}
